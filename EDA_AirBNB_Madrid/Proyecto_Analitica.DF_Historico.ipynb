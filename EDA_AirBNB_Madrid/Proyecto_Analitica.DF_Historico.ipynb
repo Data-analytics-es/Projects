{
 "cells": [
  {
   "cell_type": "code",
   "execution_count": 1,
   "metadata": {},
   "outputs": [],
   "source": [
    "import pandas as pd\n",
    "import numpy as np\n",
    "import seaborn as sns\n",
    "import seaborn; seaborn.set()\n",
    "import matplotlib.pyplot as plt\n",
    "import matplotlib.ticker as ticker\n",
    "import plotly.figure_factory as ff\n",
    "import plotly.graph_objects as go\n",
    "import plotly.express as px\n",
    "import datetime\n"
   ]
  },
  {
   "cell_type": "code",
   "execution_count": 2,
   "metadata": {},
   "outputs": [
    {
     "ename": "FileNotFoundError",
     "evalue": "[Errno 2] No such file or directory: 'csv/listings_202010L.csv'",
     "output_type": "error",
     "traceback": [
      "\u001b[1;31m---------------------------------------------------------------------------\u001b[0m",
      "\u001b[1;31mFileNotFoundError\u001b[0m                         Traceback (most recent call last)",
      "\u001b[1;32m<ipython-input-2-34c8a0613667>\u001b[0m in \u001b[0;36m<module>\u001b[1;34m\u001b[0m\n\u001b[0;32m      1\u001b[0m \u001b[1;31m# importar datos limpiados\u001b[0m\u001b[1;33m\u001b[0m\u001b[1;33m\u001b[0m\u001b[1;33m\u001b[0m\u001b[0m\n\u001b[0;32m      2\u001b[0m \u001b[1;31m#df = pd.read_csv('csv/AirBNB_2009-2020.csv')\u001b[0m\u001b[1;33m\u001b[0m\u001b[1;33m\u001b[0m\u001b[1;33m\u001b[0m\u001b[0m\n\u001b[1;32m----> 3\u001b[1;33m \u001b[0mdf\u001b[0m \u001b[1;33m=\u001b[0m \u001b[0mpd\u001b[0m\u001b[1;33m.\u001b[0m\u001b[0mread_csv\u001b[0m\u001b[1;33m(\u001b[0m\u001b[1;34m'csv/listings_202010L.csv'\u001b[0m\u001b[1;33m)\u001b[0m\u001b[1;33m\u001b[0m\u001b[1;33m\u001b[0m\u001b[0m\n\u001b[0m",
      "\u001b[1;32m~\\anaconda3\\lib\\site-packages\\pandas\\io\\parsers.py\u001b[0m in \u001b[0;36mread_csv\u001b[1;34m(filepath_or_buffer, sep, delimiter, header, names, index_col, usecols, squeeze, prefix, mangle_dupe_cols, dtype, engine, converters, true_values, false_values, skipinitialspace, skiprows, skipfooter, nrows, na_values, keep_default_na, na_filter, verbose, skip_blank_lines, parse_dates, infer_datetime_format, keep_date_col, date_parser, dayfirst, cache_dates, iterator, chunksize, compression, thousands, decimal, lineterminator, quotechar, quoting, doublequote, escapechar, comment, encoding, dialect, error_bad_lines, warn_bad_lines, delim_whitespace, low_memory, memory_map, float_precision)\u001b[0m\n\u001b[0;32m    684\u001b[0m     )\n\u001b[0;32m    685\u001b[0m \u001b[1;33m\u001b[0m\u001b[0m\n\u001b[1;32m--> 686\u001b[1;33m     \u001b[1;32mreturn\u001b[0m \u001b[0m_read\u001b[0m\u001b[1;33m(\u001b[0m\u001b[0mfilepath_or_buffer\u001b[0m\u001b[1;33m,\u001b[0m \u001b[0mkwds\u001b[0m\u001b[1;33m)\u001b[0m\u001b[1;33m\u001b[0m\u001b[1;33m\u001b[0m\u001b[0m\n\u001b[0m\u001b[0;32m    687\u001b[0m \u001b[1;33m\u001b[0m\u001b[0m\n\u001b[0;32m    688\u001b[0m \u001b[1;33m\u001b[0m\u001b[0m\n",
      "\u001b[1;32m~\\anaconda3\\lib\\site-packages\\pandas\\io\\parsers.py\u001b[0m in \u001b[0;36m_read\u001b[1;34m(filepath_or_buffer, kwds)\u001b[0m\n\u001b[0;32m    450\u001b[0m \u001b[1;33m\u001b[0m\u001b[0m\n\u001b[0;32m    451\u001b[0m     \u001b[1;31m# Create the parser.\u001b[0m\u001b[1;33m\u001b[0m\u001b[1;33m\u001b[0m\u001b[1;33m\u001b[0m\u001b[0m\n\u001b[1;32m--> 452\u001b[1;33m     \u001b[0mparser\u001b[0m \u001b[1;33m=\u001b[0m \u001b[0mTextFileReader\u001b[0m\u001b[1;33m(\u001b[0m\u001b[0mfp_or_buf\u001b[0m\u001b[1;33m,\u001b[0m \u001b[1;33m**\u001b[0m\u001b[0mkwds\u001b[0m\u001b[1;33m)\u001b[0m\u001b[1;33m\u001b[0m\u001b[1;33m\u001b[0m\u001b[0m\n\u001b[0m\u001b[0;32m    453\u001b[0m \u001b[1;33m\u001b[0m\u001b[0m\n\u001b[0;32m    454\u001b[0m     \u001b[1;32mif\u001b[0m \u001b[0mchunksize\u001b[0m \u001b[1;32mor\u001b[0m \u001b[0miterator\u001b[0m\u001b[1;33m:\u001b[0m\u001b[1;33m\u001b[0m\u001b[1;33m\u001b[0m\u001b[0m\n",
      "\u001b[1;32m~\\anaconda3\\lib\\site-packages\\pandas\\io\\parsers.py\u001b[0m in \u001b[0;36m__init__\u001b[1;34m(self, f, engine, **kwds)\u001b[0m\n\u001b[0;32m    944\u001b[0m             \u001b[0mself\u001b[0m\u001b[1;33m.\u001b[0m\u001b[0moptions\u001b[0m\u001b[1;33m[\u001b[0m\u001b[1;34m\"has_index_names\"\u001b[0m\u001b[1;33m]\u001b[0m \u001b[1;33m=\u001b[0m \u001b[0mkwds\u001b[0m\u001b[1;33m[\u001b[0m\u001b[1;34m\"has_index_names\"\u001b[0m\u001b[1;33m]\u001b[0m\u001b[1;33m\u001b[0m\u001b[1;33m\u001b[0m\u001b[0m\n\u001b[0;32m    945\u001b[0m \u001b[1;33m\u001b[0m\u001b[0m\n\u001b[1;32m--> 946\u001b[1;33m         \u001b[0mself\u001b[0m\u001b[1;33m.\u001b[0m\u001b[0m_make_engine\u001b[0m\u001b[1;33m(\u001b[0m\u001b[0mself\u001b[0m\u001b[1;33m.\u001b[0m\u001b[0mengine\u001b[0m\u001b[1;33m)\u001b[0m\u001b[1;33m\u001b[0m\u001b[1;33m\u001b[0m\u001b[0m\n\u001b[0m\u001b[0;32m    947\u001b[0m \u001b[1;33m\u001b[0m\u001b[0m\n\u001b[0;32m    948\u001b[0m     \u001b[1;32mdef\u001b[0m \u001b[0mclose\u001b[0m\u001b[1;33m(\u001b[0m\u001b[0mself\u001b[0m\u001b[1;33m)\u001b[0m\u001b[1;33m:\u001b[0m\u001b[1;33m\u001b[0m\u001b[1;33m\u001b[0m\u001b[0m\n",
      "\u001b[1;32m~\\anaconda3\\lib\\site-packages\\pandas\\io\\parsers.py\u001b[0m in \u001b[0;36m_make_engine\u001b[1;34m(self, engine)\u001b[0m\n\u001b[0;32m   1176\u001b[0m     \u001b[1;32mdef\u001b[0m \u001b[0m_make_engine\u001b[0m\u001b[1;33m(\u001b[0m\u001b[0mself\u001b[0m\u001b[1;33m,\u001b[0m \u001b[0mengine\u001b[0m\u001b[1;33m=\u001b[0m\u001b[1;34m\"c\"\u001b[0m\u001b[1;33m)\u001b[0m\u001b[1;33m:\u001b[0m\u001b[1;33m\u001b[0m\u001b[1;33m\u001b[0m\u001b[0m\n\u001b[0;32m   1177\u001b[0m         \u001b[1;32mif\u001b[0m \u001b[0mengine\u001b[0m \u001b[1;33m==\u001b[0m \u001b[1;34m\"c\"\u001b[0m\u001b[1;33m:\u001b[0m\u001b[1;33m\u001b[0m\u001b[1;33m\u001b[0m\u001b[0m\n\u001b[1;32m-> 1178\u001b[1;33m             \u001b[0mself\u001b[0m\u001b[1;33m.\u001b[0m\u001b[0m_engine\u001b[0m \u001b[1;33m=\u001b[0m \u001b[0mCParserWrapper\u001b[0m\u001b[1;33m(\u001b[0m\u001b[0mself\u001b[0m\u001b[1;33m.\u001b[0m\u001b[0mf\u001b[0m\u001b[1;33m,\u001b[0m \u001b[1;33m**\u001b[0m\u001b[0mself\u001b[0m\u001b[1;33m.\u001b[0m\u001b[0moptions\u001b[0m\u001b[1;33m)\u001b[0m\u001b[1;33m\u001b[0m\u001b[1;33m\u001b[0m\u001b[0m\n\u001b[0m\u001b[0;32m   1179\u001b[0m         \u001b[1;32melse\u001b[0m\u001b[1;33m:\u001b[0m\u001b[1;33m\u001b[0m\u001b[1;33m\u001b[0m\u001b[0m\n\u001b[0;32m   1180\u001b[0m             \u001b[1;32mif\u001b[0m \u001b[0mengine\u001b[0m \u001b[1;33m==\u001b[0m \u001b[1;34m\"python\"\u001b[0m\u001b[1;33m:\u001b[0m\u001b[1;33m\u001b[0m\u001b[1;33m\u001b[0m\u001b[0m\n",
      "\u001b[1;32m~\\anaconda3\\lib\\site-packages\\pandas\\io\\parsers.py\u001b[0m in \u001b[0;36m__init__\u001b[1;34m(self, src, **kwds)\u001b[0m\n\u001b[0;32m   2006\u001b[0m         \u001b[0mkwds\u001b[0m\u001b[1;33m[\u001b[0m\u001b[1;34m\"usecols\"\u001b[0m\u001b[1;33m]\u001b[0m \u001b[1;33m=\u001b[0m \u001b[0mself\u001b[0m\u001b[1;33m.\u001b[0m\u001b[0musecols\u001b[0m\u001b[1;33m\u001b[0m\u001b[1;33m\u001b[0m\u001b[0m\n\u001b[0;32m   2007\u001b[0m \u001b[1;33m\u001b[0m\u001b[0m\n\u001b[1;32m-> 2008\u001b[1;33m         \u001b[0mself\u001b[0m\u001b[1;33m.\u001b[0m\u001b[0m_reader\u001b[0m \u001b[1;33m=\u001b[0m \u001b[0mparsers\u001b[0m\u001b[1;33m.\u001b[0m\u001b[0mTextReader\u001b[0m\u001b[1;33m(\u001b[0m\u001b[0msrc\u001b[0m\u001b[1;33m,\u001b[0m \u001b[1;33m**\u001b[0m\u001b[0mkwds\u001b[0m\u001b[1;33m)\u001b[0m\u001b[1;33m\u001b[0m\u001b[1;33m\u001b[0m\u001b[0m\n\u001b[0m\u001b[0;32m   2009\u001b[0m         \u001b[0mself\u001b[0m\u001b[1;33m.\u001b[0m\u001b[0munnamed_cols\u001b[0m \u001b[1;33m=\u001b[0m \u001b[0mself\u001b[0m\u001b[1;33m.\u001b[0m\u001b[0m_reader\u001b[0m\u001b[1;33m.\u001b[0m\u001b[0munnamed_cols\u001b[0m\u001b[1;33m\u001b[0m\u001b[1;33m\u001b[0m\u001b[0m\n\u001b[0;32m   2010\u001b[0m \u001b[1;33m\u001b[0m\u001b[0m\n",
      "\u001b[1;32mpandas\\_libs\\parsers.pyx\u001b[0m in \u001b[0;36mpandas._libs.parsers.TextReader.__cinit__\u001b[1;34m()\u001b[0m\n",
      "\u001b[1;32mpandas\\_libs\\parsers.pyx\u001b[0m in \u001b[0;36mpandas._libs.parsers.TextReader._setup_parser_source\u001b[1;34m()\u001b[0m\n",
      "\u001b[1;31mFileNotFoundError\u001b[0m: [Errno 2] No such file or directory: 'csv/listings_202010L.csv'"
     ]
    }
   ],
   "source": [
    "# importar datos limpiados\n",
    "#df = pd.read_csv('csv/AirBNB_2009-2020.csv')\n",
    "df = pd.read_csv('csv/listings_202010L.csv')"
   ]
  },
  {
   "cell_type": "code",
   "execution_count": null,
   "metadata": {},
   "outputs": [],
   "source": [
    "#df.to_csv(r'csv/AirBNB_202010.csv', index = False)"
   ]
  },
  {
   "cell_type": "code",
   "execution_count": null,
   "metadata": {},
   "outputs": [],
   "source": [
    "#df.drop(df.columns[13:20],axis = 1, inplace = True)\n",
    "df.columns"
   ]
  },
  {
   "cell_type": "code",
   "execution_count": null,
   "metadata": {},
   "outputs": [],
   "source": [
    "df = df[['id', 'host_id', 'host_since','neighbourhood_cleansed',\n",
    "       'neighbourhood_group_cleansed', 'latitude', 'longitude',\n",
    "       'room_type', 'accommodates', 'bedrooms', 'price', 'minimum_nights',\n",
    "       'availability_365', 'first_review', 'last_review',\n",
    "       'review_scores_rating', 'review_scores_accuracy',\n",
    "       'review_scores_cleanliness', 'review_scores_checkin',\n",
    "       'review_scores_communication', 'review_scores_location',\n",
    "       'review_scores_value', 'license', 'instant_bookable',\n",
    "       'calculated_host_listings_count', 'reviews_per_month']]"
   ]
  },
  {
   "cell_type": "code",
   "execution_count": null,
   "metadata": {},
   "outputs": [],
   "source": [
    "df.columns"
   ]
  },
  {
   "cell_type": "code",
   "execution_count": null,
   "metadata": {},
   "outputs": [],
   "source": [
    "# set columna 'id' como index\n",
    "df.set_index('id', inplace = True)\n",
    "df = df.rename(columns={\"neighbourhood_cleansed\": \"Barrio\",\"'calculated_host_listings_count'\": \"listings_host\",\"neighbourhood_group_cleansed\": \"Distrito\"})"
   ]
  },
  {
   "cell_type": "code",
   "execution_count": null,
   "metadata": {},
   "outputs": [],
   "source": [
    "# fill NaNs in columna 'license'\n",
    "df['license'].fillna('no', inplace = True)\n",
    "df['bedrooms'].fillna(df['accommodates']/2.3, inplace = True)\n",
    "#comprobar si hay NaNs\n",
    "df.isna().sum()\n",
    "\n",
    "# convertir en formato daytime columna 'first-review'\n",
    "df['first_review']= pd.to_datetime(df['first_review'])\n",
    "\n",
    "# añadir columna para el conteo de crecimiento de numero de apartamentos\n",
    "df = df.sort_values('first_review')\n",
    "\n",
    "# mover columna 'Date' al principio\n",
    "date = df.pop('first_review')\n",
    "df.insert(0, 'date', date)\n",
    "df.groupby('Distrito').size()"
   ]
  },
  {
   "cell_type": "code",
   "execution_count": null,
   "metadata": {},
   "outputs": [],
   "source": []
  },
  {
   "cell_type": "code",
   "execution_count": null,
   "metadata": {},
   "outputs": [],
   "source": [
    "# Licencias incluyendo alojamientos sin reseña\n",
    "df_lic = df[['license', 'date']]\n",
    "df_lic['date']= pd.to_datetime(df_lic['date'])\n",
    "df_lic.set_index('date', inplace = True)\n",
    "df_lic = df_lic.resample('YS').nunique()\n",
    "df_lic = df_lic.reset_index()\n",
    "df_lic = df_lic.rename(columns={0:'licencias'})\n",
    "df_lic.set_index('date', inplace = True)\n",
    "df_lic['total'] = df_lic['license'].cumsum()\n",
    "df_lic"
   ]
  },
  {
   "cell_type": "code",
   "execution_count": null,
   "metadata": {},
   "outputs": [],
   "source": [
    "# Crecimiento con Host since\n",
    "df_host = df[['Distrito', 'room_type', 'date', 'host_since']]\n",
    "df_host['date']= pd.to_datetime(df_host['host_since'])\n",
    "df_host['aptos_year'] = 1\n",
    "df_host.set_index('date', inplace = True)\n",
    "df_host = df_host.resample('YS').sum()\n",
    "df_host['total'] = df_host['aptos_year'].cumsum()\n",
    "df_host"
   ]
  },
  {
   "cell_type": "code",
   "execution_count": null,
   "metadata": {},
   "outputs": [],
   "source": [
    "# Crear df con todas las entradas (al otro se quitan aptos sin reseña)\n",
    "corona = df[['Distrito', 'room_type', 'date', 'host_since']]\n",
    "corona = corona[corona['Distrito'] == 'Centro']\n",
    "corona['aptos_year'] = 1\n",
    "corona['date']= pd.to_datetime(corona['date'])\n",
    "corona.set_index('date', inplace = True)\n",
    "corona = corona.resample('MS').sum()\n",
    "corona['total'] = corona['aptos_year'].cumsum()\n",
    "corona"
   ]
  },
  {
   "cell_type": "code",
   "execution_count": null,
   "metadata": {},
   "outputs": [],
   "source": [
    "# Crear df con todas las entradas (al otro se quitan aptos sin reseña)\n",
    "centro = df[['Distrito', 'room_type', 'date', 'host_since']]\n",
    "centro = centro[centro['Distrito'] == 'Centro']\n",
    "centro['aptos_year'] = 1\n",
    "centro['date']= pd.to_datetime(centro['date'])\n",
    "centro.set_index('date', inplace = True)\n",
    "centro = centro.resample('QS').sum()\n",
    "centro['total'] = centro['aptos_year'].cumsum()\n",
    "centro"
   ]
  },
  {
   "cell_type": "code",
   "execution_count": null,
   "metadata": {},
   "outputs": [],
   "source": [
    "# Crear df con todas las entradas (al otro se quitan aptos sin reseña)\n",
    "df_years = df[['Distrito', 'room_type', 'date', 'host_since']]\n",
    "df_years['aptos_year'] = 1\n",
    "df_years['date']= pd.to_datetime(df_years['date'])\n",
    "df_years.set_index('date', inplace = True)\n",
    "df_years = df_years.resample('YS').sum()\n",
    "df_years['total'] = df_years['aptos_year'].cumsum()\n",
    "df_years"
   ]
  },
  {
   "cell_type": "code",
   "execution_count": null,
   "metadata": {},
   "outputs": [],
   "source": []
  },
  {
   "cell_type": "code",
   "execution_count": null,
   "metadata": {},
   "outputs": [],
   "source": [
    "# eliminar filas con NaNs (5.200 sin reseñas)\n",
    "df = df.dropna()\n",
    "\n",
    "df['total'] = 1\n",
    "df['acum'] = df['total'].cumsum()"
   ]
  },
  {
   "cell_type": "code",
   "execution_count": null,
   "metadata": {},
   "outputs": [],
   "source": [
    "# Crear columna para traducir dias a meses como en el Dataframe distritos (luego se hace de una manera más elegante)\n",
    "df['year'] = df['date'].dt.year\n",
    "df['month'] = df['date'].dt.month\n",
    "df[\"newdate\"] = df[\"month\"].astype(str) + '/01/' + df[\"year\"].astype(str)\n",
    "df['newdate']= pd.to_datetime(df['newdate'])\n",
    "df"
   ]
  },
  {
   "cell_type": "code",
   "execution_count": null,
   "metadata": {},
   "outputs": [],
   "source": [
    "# Crear Dataframe con 10 años de datos de 3 distritos + Madrid\n",
    "df_dis = pd.read_csv(r'csv/Distritos_actual.csv', sep = ';')\n",
    "df_dis"
   ]
  },
  {
   "cell_type": "code",
   "execution_count": null,
   "metadata": {},
   "outputs": [],
   "source": [
    "pib = pd.read_csv(r'csv/PIB.csv', sep = ';')\n",
    "pib"
   ]
  },
  {
   "cell_type": "code",
   "execution_count": null,
   "metadata": {},
   "outputs": [],
   "source": [
    "C_Var = pd.read_csv(r'csv/Var_Centro.csv', sep = ';', decimal = ',')"
   ]
  },
  {
   "cell_type": "code",
   "execution_count": null,
   "metadata": {},
   "outputs": [],
   "source": [
    "C_Var.to_csv(r'csv/C_Var.csv')\n"
   ]
  },
  {
   "cell_type": "code",
   "execution_count": null,
   "metadata": {},
   "outputs": [],
   "source": []
  },
  {
   "cell_type": "code",
   "execution_count": null,
   "metadata": {},
   "outputs": [],
   "source": [
    "# Set Fecha como index\n",
    "df_dis['Date']= pd.to_datetime(df_dis['Mes'])\n",
    "df_dis['Date'] = pd.DatetimeIndex(df_dis['Date'])\n",
    "df_dis.set_index('Date', inplace = True)\n",
    "df_dis.drop('Mes', axis = 1, inplace = True)"
   ]
  },
  {
   "cell_type": "code",
   "execution_count": null,
   "metadata": {
    "scrolled": true
   },
   "outputs": [],
   "source": [
    "#Crear series de datos distritos para cruzarlos del AirBNB a distritos\n",
    "mask = df['Distrito'] == 'Centro'\n",
    "df_C = df[mask]\n",
    "df_C = df_C.groupby('newdate').size()\n",
    "\n",
    "mask = df['Distrito'] == 'Ciudad Lineal'\n",
    "df_CL = df[mask]\n",
    "df_CL = df_CL.groupby('newdate').size()\n",
    "\n",
    "mask = df['Distrito'] == 'Villa de Vallecas'\n",
    "df_V = df[mask]\n",
    "df_V = df_V.groupby('newdate').size()\n",
    "\n",
    "df_C.name = 'AirBNB_Centro'\n",
    "df_CL.name = 'AirBNB_CiudadL'\n",
    "df_V.name = 'AirBNB_Vallecas'\n",
    "\n",
    "# Añadir info AirBNB a distritos\n",
    "df_dis = df_dis.join(df_C)\n",
    "df_dis = df_dis.join(df_CL)\n",
    "df_dis = df_dis.join(df_V)"
   ]
  },
  {
   "cell_type": "code",
   "execution_count": null,
   "metadata": {},
   "outputs": [],
   "source": []
  },
  {
   "cell_type": "code",
   "execution_count": null,
   "metadata": {},
   "outputs": [],
   "source": [
    "df_dis['AirBNB_Centro'] = df_dis['AirBNB_Centro'].fillna(0)\n",
    "df_dis['AirBNB_CiudadL'] = df_dis['AirBNB_CiudadL'].fillna(0)\n",
    "df_dis['AirBNB_Vallecas'] = df_dis['AirBNB_Vallecas'].fillna(0)"
   ]
  },
  {
   "cell_type": "code",
   "execution_count": null,
   "metadata": {},
   "outputs": [],
   "source": [
    "df_dis['CAM PIB M'] = df_dis['CAM PIB M'].astype(int)\n",
    "df_dis['CAM Var PIB'] = df_dis['CAM Var PIB'].round(3)\n",
    "df_dis.to_csv(r'csv/Distritos.csv')"
   ]
  },
  {
   "cell_type": "code",
   "execution_count": null,
   "metadata": {},
   "outputs": [],
   "source": [
    "# Elegir solo room type 'entire' para conteo de ratio AirBNB/viviendas\n",
    "df_total = pd.read_csv('csv/listings_202008.csv')\n",
    "df_total = df_total.rename(columns={\"neighbourhood_cleansed\": \"Barrio\",\"host_total_listings_count\": \"listings_host\",\"neighbourhood_group_cleansed\": \"Distrito\"})\n",
    "mask = df_total['room_type'] == 'Entire home/apt'\n",
    "ratio = df_total[mask].groupby(['Distrito']).size()"
   ]
  },
  {
   "cell_type": "code",
   "execution_count": null,
   "metadata": {},
   "outputs": [],
   "source": [
    "# Definición de colores\n",
    "color_discrete_sequence=[\"#1F6768\", \"#7DC2BF\",\"#EE2737\", \"#FBD872\" ]\n",
    "color_discrete_sequence2=[\"#1F6768\", \"#7DC2BF\",\"#EE2737\", \"#FBD872\",\"#aeaeae\", '#c3dbdb']\n",
    "color_continuous_scale=[\"#EDEBDC\", \"#FBD872\", \"#EE2737\"]\n",
    "color_continuous_scale2=[\"#EE2737\",'#ECEDF4', \"#FBD872\"]"
   ]
  },
  {
   "cell_type": "code",
   "execution_count": null,
   "metadata": {},
   "outputs": [],
   "source": [
    "\n"
   ]
  },
  {
   "cell_type": "code",
   "execution_count": null,
   "metadata": {},
   "outputs": [],
   "source": []
  },
  {
   "cell_type": "code",
   "execution_count": null,
   "metadata": {},
   "outputs": [],
   "source": [
    "#centro = centro.acum()\n",
    "\n",
    "fig = go.Figure()\n",
    "\n",
    "fig.add_trace(go.Scatter(x=df_years.index, y=df_years.total,\n",
    "                    mode='lines',\n",
    "                    name='Apartamentos activos',\n",
    "                         marker_color='#EE2737'))\n",
    "\n",
    "fig.add_trace(go.Scatter(x=df_host.index, y=df_host.total,\n",
    "                    mode='lines',\n",
    "                    name='Apartamentos/host',\n",
    "                        marker_color='#1F6768'))\n",
    "\n",
    "fig.add_trace(go.Scatter(x=df_lic.index, y=df_lic.total,\n",
    "                    mode='lines',\n",
    "                    name='Licencias',\n",
    "                        marker_color='#FBD872'))\n",
    "\n",
    "fig.add_trace(go.Bar(x=df_host.index, y=df_host.aptos_year, name='Apartamentos/año', marker_color='#EE2737 '))\n",
    "fig.add_trace(go.Bar(x=df_years.index, y=df_years.aptos_year, name='Apartamentos/año/host', marker_color='#1F6768'))\n",
    "fig.update_yaxes(showgrid=True, tickformat = '.')\n",
    "fig.update_xaxes(dtick = 'M12')\n",
    "fig.update_layout(template=\"simple_white\",\n",
    "                  width=900,\n",
    "                  height=500, \n",
    "                  legend=dict(\n",
    "                      yanchor=\"top\",\n",
    "                      y=0.99,\n",
    "                      xanchor=\"left\",\n",
    "                      x=0.01))\n",
    "fig.show()\n",
    "fig.write_html(r\"C:\\Users\\Kerstin\\Data Science\\Proyectos\\Proyecto_Analitica\\plots\\Aptos_Madrid.html\")"
   ]
  },
  {
   "cell_type": "code",
   "execution_count": null,
   "metadata": {},
   "outputs": [],
   "source": []
  },
  {
   "cell_type": "code",
   "execution_count": null,
   "metadata": {},
   "outputs": [],
   "source": [
    "violin = pd.read_csv('csv/listings_202008.csv')\n",
    "violin['count'] = 1\n",
    "data = [violin['host_id'],violin['count']]\n",
    "violin = pd.concat(data, axis=1)\n",
    "violin = violin.groupby(['host_id']).sum()\n",
    "violin = violin.reset_index()\n",
    "violin"
   ]
  },
  {
   "cell_type": "code",
   "execution_count": null,
   "metadata": {},
   "outputs": [],
   "source": [
    "df_donut = pd.read_csv('csv/listings_202008.csv')\n",
    "df_donut = df_donut[['host_id','host_name','first_review','calculated_host_listings_count']]\n",
    "df_donut = df_donut.dropna()\n",
    "df_donut.sort_values(by = 'calculated_host_listings_count', ascending = False)\n",
    "values = df_donut.groupby('calculated_host_listings_count').nunique()"
   ]
  },
  {
   "cell_type": "code",
   "execution_count": null,
   "metadata": {},
   "outputs": [],
   "source": [
    "values = values.drop(['host_name', 'calculated_host_listings_count'], axis = 1)"
   ]
  },
  {
   "cell_type": "code",
   "execution_count": null,
   "metadata": {},
   "outputs": [],
   "source": [
    "values['bins'] = values.index * values['host_id']\n",
    "values['bins2'] = values.index\n",
    "values['bins2'] = values['bins2'].where(values['bins2'] <= 5, '6-100')\n",
    "values['bins2'] = values['bins2'].where(values.index <= 100, '>100')"
   ]
  },
  {
   "cell_type": "code",
   "execution_count": null,
   "metadata": {},
   "outputs": [],
   "source": [
    "values = values.groupby('bins2').sum()\n",
    "values"
   ]
  },
  {
   "cell_type": "code",
   "execution_count": null,
   "metadata": {},
   "outputs": [],
   "source": [
    "fig = px.pie(values, \n",
    "             values='bins',\n",
    "             names=values.index,\n",
    "             hole=.3, \n",
    "             color_discrete_sequence=color_discrete_sequence2, \n",
    "             width=800, \n",
    "             height=400)\n",
    "fig.update_layout(template=\"simple_white\",\n",
    "                  legend=dict(y=0.01,\n",
    "                              x=0.01))\n",
    "fig.update_layout(legend=dict(\n",
    "    orientation=\"h\",\n",
    "    yanchor=\"bottom\",\n",
    "    y=1,\n",
    "    xanchor=\"center\",\n",
    "    x=0.5))\n",
    "fig.show()\n",
    "fig.write_image(r\"C:\\Users\\Kerstin\\Data Science\\Proyectos\\Proyecto_Analitica\\plots\\Aptos_bins.png\")"
   ]
  },
  {
   "cell_type": "code",
   "execution_count": null,
   "metadata": {},
   "outputs": [],
   "source": [
    "fig = px.pie(values, \n",
    "             values='host_id', \n",
    "             names=values.index, \n",
    "             hole=.3, \n",
    "             color_discrete_sequence=color_discrete_sequence2, \n",
    "             width=800, \n",
    "             height=400)\n",
    "fig.update_layout(template=\"simple_white\",\n",
    "                  legend=dict(y=0.01,\n",
    "                              x=0.01))\n",
    "fig.update_layout(legend=dict(\n",
    "    orientation=\"h\",\n",
    "    yanchor=\"bottom\",\n",
    "    y=1,\n",
    "    xanchor=\"center\",\n",
    "    x=0.5))\n",
    "fig.show()\n",
    "fig.write_image(r\"C:\\Users\\Kerstin\\Data Science\\Proyectos\\Proyecto_Analitica\\plots\\Aptos_perHost.png\")\n",
    "\n",
    "#join df_original con df_aptos_host"
   ]
  },
  {
   "cell_type": "code",
   "execution_count": null,
   "metadata": {},
   "outputs": [],
   "source": []
  },
  {
   "cell_type": "code",
   "execution_count": null,
   "metadata": {},
   "outputs": [],
   "source": [
    "fig = px.violin(violin, y=\"count\", box=True, # draw box plot inside the violin\n",
    "                points='all',\n",
    "                color_discrete_sequence=color_discrete_sequence,\n",
    "                template=\"simple_white\"\n",
    "               )\n",
    "fig.show()\n",
    "fig.write_html(r\"C:\\Users\\Kerstin\\Data Science\\Proyectos\\Proyecto_Analitica\\plots\\violin.html\")"
   ]
  },
  {
   "cell_type": "code",
   "execution_count": null,
   "metadata": {},
   "outputs": [],
   "source": [
    "tipos = df['room_type'].value_counts()\n",
    "tipos = tipos.reset_index()\n",
    "tipos.rename(columns={'index': \"tipos\", 'room_type': \"numero\"}, inplace = True)"
   ]
  },
  {
   "cell_type": "code",
   "execution_count": null,
   "metadata": {},
   "outputs": [],
   "source": [
    "\n",
    "fig = go.Figure([go.Bar(x=tipos['tipos'], y=tipos['numero'], marker_color=color_discrete_sequence)])\n",
    "fig.update_layout(template=\"simple_white\",\n",
    "                  width=700,\n",
    "                  height=500)\n",
    "fig.update_yaxes(tickformat=\".\")\n",
    "fig.update_traces(texttemplate=['9.452','5.174', '208','137'], textposition='outside')\n",
    "fig.show()"
   ]
  },
  {
   "cell_type": "code",
   "execution_count": null,
   "metadata": {},
   "outputs": [],
   "source": [
    "x = corona1.index\n",
    "co = corona1['aptos_year']\n",
    "color_discrete_sequence_co=[\"#1F6768\", \"#7DC2BF\",\"#EE2737\", \"#FBD872\",\"#aeaeae\", '#c3dbdb',\"#1F6768\", \"#7DC2BF\",\"#EE2737\"]\n",
    "\n",
    "fig = go.Figure([go.Bar(x=x, y=co, marker_color=color_discrete_sequence_co)])\n",
    "fig.update_layout(template=\"simple_white\",\n",
    "                  width=1200,\n",
    "                  height=600)\n",
    "fig.update_yaxes(tickformat=\".\")\n",
    "fig.update_traces(texttemplate=['171','170', '102','6','12','38','109','76','96'], textposition='outside')\n",
    "fig.show()"
   ]
  },
  {
   "cell_type": "code",
   "execution_count": null,
   "metadata": {},
   "outputs": [],
   "source": [
    "mapbox_access_token = \"pk.eyJ1Ijoia2Vyc3RpbmsiLCJhIjoiY2tnbGJ1enN6MGZ0ZTJ0cGNrbzJid3g4NSJ9.cN4FFIyy2xOcdjGHEUwzFQ\"\n",
    "\n",
    "fig = px.scatter_mapbox(df,\n",
    "                        lat=\"latitude\",\n",
    "                        lon=\"longitude\",\n",
    "                        color = \"room_type\",\n",
    "                        animation_frame=\"year\",\n",
    "                        opacity = 0.8,\n",
    "                        color_discrete_map={\n",
    "                \"Private room\": \"#7DC2BF\",\n",
    "                \"Entire home/apt\": \"#EE2737\"},\n",
    "                        #color_discrete_sequence=color_discrete_sequence2,\n",
    "                        zoom=11)\n",
    "fig.update_layout(mapbox=dict(accesstoken=mapbox_access_token), mapbox_style = 'dark', width = 1300, height = 600)\n",
    "\n",
    "fig.show();\n",
    "fig.write_html(r\"C:\\Users\\Kerstin\\Data Science\\Proyectos\\Proyecto_Analitica\\plots\\DensidadAirBNB2.html\")"
   ]
  },
  {
   "cell_type": "code",
   "execution_count": null,
   "metadata": {},
   "outputs": [],
   "source": [
    "mapbox_access_token = \"pk.eyJ1Ijoia2Vyc3RpbmsiLCJhIjoiY2tnbGJ1enN6MGZ0ZTJ0cGNrbzJid3g4NSJ9.cN4FFIyy2xOcdjGHEUwzFQ\"\n",
    "\n",
    "fig = ff.create_hexbin_mapbox(df,\n",
    "                              lat=\"latitude\",\n",
    "                              lon=\"longitude\",\n",
    "                              #color = \"total\",\n",
    "                              labels={\"color\": \"Nº Apartamentos\"},\n",
    "                              #color_continuous_scale=\"inferno\",\n",
    "                              color_continuous_scale=color_continuous_scale,\n",
    "                              nx_hexagon=100,\n",
    "                              #animation_frame=\"Year\",\n",
    "                              #agg_func=np.cumsum,\n",
    "                              #range_color=[50,250],\n",
    "                              opacity = 0.7,\n",
    "                              min_count=1,\n",
    "                              zoom=13,\n",
    "                              center=dict(lat=40.417,lon=-3.7),)\n",
    "fig.update_layout(\n",
    "    mapbox=dict(accesstoken=mapbox_access_token),width = 1200, height = 600)\n",
    "fig.show() \n",
    "fig.write_html(r\"C:\\Users\\Kerstin\\Data Science\\Proyectos\\Proyecto_Analitica\\plots\\Map_hexbin.html\")"
   ]
  },
  {
   "cell_type": "code",
   "execution_count": null,
   "metadata": {},
   "outputs": [],
   "source": [
    "#\"#789DB7\", \"#FFB838\",\"#486D87\", \"#aeaeae\"\n",
    "fig =plt.figure(figsize=(18, 6))\n",
    "plt.style.use('seaborn-whitegrid')\n",
    "ax1 = df_dis[\"C Var\"].resample('QS').mean().plot(color = '#EE2737')\n",
    "ax2 = df_dis[\"CL Var\"].resample('QS').mean().plot(color = '#7DC2BF')\n",
    "ax3 = df_dis[\"V Var %\"].resample('QS').mean().plot(color = '#FBD872')\n",
    "ax4 = df_dis[\"M Var\"].resample('QS').mean().plot(color = '#333333')\n",
    "ax5 = df_dis[\"CAM Var PIB\"].plot(color = '#333333',style = ':')\n",
    "plt.ylabel('Variación/trimestre precio alquiler/PIB', color='#333333')\n",
    "plt.legend(['Centro','Ciudad Lineal','Vallecas','Madrid','PIB Madrid'], loc = 'upper left');\n",
    "plt.savefig(r\"C:\\Users\\Kerstin\\Data Science\\Proyectos\\Proyecto_Analitica\\plots\\var_precios.png\")"
   ]
  },
  {
   "cell_type": "code",
   "execution_count": null,
   "metadata": {},
   "outputs": [],
   "source": [
    "df_dis['C Padron'] = round(df_dis['C Padron']/3,0)"
   ]
  },
  {
   "cell_type": "code",
   "execution_count": null,
   "metadata": {},
   "outputs": [],
   "source": [
    "oferta"
   ]
  },
  {
   "cell_type": "code",
   "execution_count": null,
   "metadata": {},
   "outputs": [],
   "source": [
    "x = oferta.index\n",
    "C = oferta['Centro']\n",
    "M = oferta['Ciudad de Madrid']\n",
    "fig =plt.figure(figsize=(12,8))\n",
    "ax1 = C.plot(color = '#1F6768',  marker = 'o')\n",
    "ax2 = M.plot(color = '#EE2737', marker = 'o')\n",
    "#ax2.grid(False)\n",
    "\n",
    "plt.ylabel('Precio alquiler/m2 en €', color='#333333')\n",
    "#plt.grid(axis = 'x')\n",
    "#plt.ylim(bottom=6)\n",
    "#plt.xlim([datetime.date(2010,5,1), datetime.date(2020,9,1)])\n",
    "plt.style.use('seaborn-whitegrid')\n",
    "plt.legend(['Centro','Madrid'], loc = 'upper right');\n",
    "plt.savefig(r\"C:\\Users\\Kerstin\\Data Science\\Proyectos\\Proyecto_Analitica\\plots\\precio_alqiileres.png\")\n",
    "#fig.write_image(r\"C:\\Users\\Kerstin\\Data Science\\Proyectos\\Proyecto_Analitica\\plots\\precio_alqiileres.png\")\n"
   ]
  },
  {
   "cell_type": "code",
   "execution_count": null,
   "metadata": {},
   "outputs": [],
   "source": [
    "corona1 = corona[-10:-1]\n",
    "corona1"
   ]
  },
  {
   "cell_type": "code",
   "execution_count": null,
   "metadata": {},
   "outputs": [],
   "source": [
    "x = corona1.index\n",
    "co = corona1['aptos_year']\n",
    "\n",
    "\n",
    "fig =plt.figure(figsize=(15,10))\n",
    "ax1 = co.plot(color = '#1F6768',  marker = 'o')\n",
    "#ax2.grid(False)\n",
    "\n",
    "plt.ylabel('Precio alquiler/m2 en €', color='#333333')\n",
    "#plt.grid(axis = 'x')\n",
    "#plt.ylim(bottom=6)\n",
    "#plt.xlim([datetime.date(2010,5,1), datetime.date(2020,9,1)])\n",
    "plt.style.use('seaborn-whitegrid')\n",
    "plt.legend(['Centro','Madrid'], loc = 'upper right');\n",
    "plt.savefig(r\"C:\\Users\\Kerstin\\Data Science\\Proyectos\\Proyecto_Analitica\\plots\\precio_alqiileres.png\")\n",
    "#fig.write_image(r\"C:\\Users\\Kerstin\\Data Science\\Proyectos\\Proyecto_Analitica\\plots\\precio_alqiileres.png\")\n"
   ]
  },
  {
   "cell_type": "code",
   "execution_count": null,
   "metadata": {},
   "outputs": [],
   "source": [
    "x = oferta.index\n",
    "C = oferta['Oferta viviendas']\n",
    "\n",
    "fig =plt.figure(figsize=(12,8))\n",
    "ax = C.plot(color = '#548582',  marker = 'o').fill_between(x,0,C, color='#7DC2BF', alpha = 0.8)\n",
    "\n",
    "plt.ylabel('Variación oferta vivienda alquiler Idealista', color='#333333')\n",
    "\n",
    "plt.style.use('seaborn-whitegrid')\n",
    "plt.savefig(r\"C:\\Users\\Kerstin\\Data Science\\Proyectos\\Proyecto_Analitica\\plots\\oferta_idealista.png\")"
   ]
  },
  {
   "cell_type": "code",
   "execution_count": null,
   "metadata": {},
   "outputs": [],
   "source": [
    "fig =plt.figure(figsize=(15,5))\n",
    "ax1 = df_dis[\"C Precio m2\"].plot(color = '#1F6768').fill_between(df_dis.index,0,df_dis[\"C Precio m2\"], color='#1F6768', alpha = 0.7)\n",
    "ax2 = df_dis[\"CL Precio\"].plot(color = '#548582').fill_between(df_dis.index,0,df_dis[\"CL Precio\"], color='#7DC2BF', alpha = 0.8)\n",
    "ax3 = df_dis[\"V Precio m2\"].plot(color = '#EE2737').fill_between(df_dis.index,0,df_dis[\"V Precio m2\"], color='#ed6b75', alpha = 0.9)\n",
    "ax4 = df_dis[\"M Precio m2\"].plot(color = 'white',linewidth=3, style = '--')\n",
    "plt.ylabel('Precio alquiler/m2 en €', color='#333333')\n",
    "#plt.grid(axis = 'x')\n",
    "plt.ylim(bottom=6)\n",
    "plt.xlim([datetime.date(2010,5,1), datetime.date(2020,9,1)])\n",
    "plt.style.use('seaborn')\n",
    "plt.legend(['Centro','Ciudad Lineal','Vallecas','Madrid'], loc = 'upper left');\n",
    "plt.savefig(r\"C:\\Users\\Kerstin\\Data Science\\Proyectos\\Proyecto_Analitica\\plots\\precio_alqiileres.png\")\n",
    "#fig.write_image(r\"C:\\Users\\Kerstin\\Data Science\\Proyectos\\Proyecto_Analitica\\plots\\precio_alqiileres.png\")"
   ]
  },
  {
   "cell_type": "code",
   "execution_count": null,
   "metadata": {},
   "outputs": [],
   "source": [
    "oferta = pd.read_csv('csv/Oferta_alquiler.csv', encoding = 'Latin', sep = ';', decimal=\",\")\n",
    "oferta.rename(columns={\"Unnamed: 0\": \"Date\"}, inplace = True)\n",
    "oferta['Date'] = pd.DatetimeIndex(oferta['Date'])\n",
    "oferta.set_index('Date', inplace = True)\n",
    "oferta"
   ]
  },
  {
   "cell_type": "code",
   "execution_count": null,
   "metadata": {},
   "outputs": [],
   "source": [
    "x = oferta['Centro']\n",
    "C = oferta['Centro']\n",
    "M = oferta['Ciudad de Madrid']"
   ]
  },
  {
   "cell_type": "code",
   "execution_count": null,
   "metadata": {
    "scrolled": false
   },
   "outputs": [],
   "source": [
    "\n",
    "fig, ax1 = plt.subplots(figsize=(13, 7))\n",
    "x = df_dis.index\n",
    "C = df_dis[\"C Precio m2\"].resample('Q').mean()\n",
    "D = centro['total']\n",
    "\n",
    "color = '#FBD872'\n",
    "ax1.set_ylabel('Precio m2 en Centro', color=color, fontsize=18)\n",
    "ax1.plot(C, color=color,  marker=\"o\")\n",
    "#.fill_between(df_dis.index,0,df_dis[\"C Precio m2\"], color='#789DB7')\n",
    "ax1.tick_params(axis='y', labelcolor=color, labelsize=12)\n",
    "ax1.tick_params(axis='x', labelcolor=color, labelsize=12)\n",
    "\n",
    "#ax1.grid(False)\n",
    "\n",
    "ax2 = ax1.twinx()  # instantiate a second axes that shares the same x-axis\n",
    "\n",
    "color = '#EE2737'\n",
    "ax2.set_ylabel('Aptos nuevos Centro', color=color, fontsize=18)  # we already handled the x-label with ax1\n",
    "ax2.plot(D, color=color, marker=\"o\")\n",
    "ax2.tick_params(axis='y', labelcolor=color, labelsize=12)\n",
    "ax2.grid(False)\n",
    "\n",
    "\n",
    "#plt.style.use(\"dark_background\")\n",
    "fig.tight_layout()  # otherwise the right y-label is slightly clipped\n",
    "plt.show();\n",
    "plt.savefig(r\"C:\\Users\\Kerstin\\Data Science\\Proyectos\\Proyecto_Analitica\\plots\\precio_vs_AirBNB.png\");"
   ]
  },
  {
   "cell_type": "code",
   "execution_count": null,
   "metadata": {},
   "outputs": [],
   "source": []
  },
  {
   "cell_type": "code",
   "execution_count": null,
   "metadata": {
    "scrolled": false
   },
   "outputs": [],
   "source": [
    "fig, ax1 = plt.subplots(figsize=(13, 7))\n",
    "x = df_dis.index\n",
    "C = df_dis[\"C Precio m2\"].resample('Q').mean()\n",
    "D = centro['total']\n",
    "E = df_dis['C Padron'].resample('Q').mean()\n",
    "\n",
    "color = 'w'\n",
    "ax1.set_ylabel('Saldo Padrón', color=color, fontsize = 16)\n",
    "ax1.plot(E, color=color, marker=\"o\")\n",
    "#.fill_between(df_dis.index,0,df_dis[\"C Precio m2\"], color='#789DB7')\n",
    "ax1.tick_params(axis='y', labelcolor=color, labelsize=12)\n",
    "ax1.tick_params(axis='x', labelcolor=color, labelsize=12)\n",
    "\n",
    "ax1.grid(False)\n",
    "\n",
    "ax2 = ax1.twinx()  # instantiate a second axes that shares the same x-axis\n",
    "\n",
    "color = '#EE2737'\n",
    "ax2.set_ylabel('Aptos nuevos Centro', color=color)  # we already handled the x-label with ax1\n",
    "ax2.plot(D, color=color, marker=\"o\")\n",
    "ax2.tick_params(axis='y', labelcolor=color, labelsize=12)\n",
    "ax2.yaxis.label.set_size(16)\n",
    "ax2.grid(False)\n",
    "\n",
    "\n",
    "#plt.style.use(\"dark_background\")\n",
    "fig.tight_layout()  # otherwise the right y-label is slightly clipped\n",
    "plt.show();\n",
    "plt.savefig(r\"C:\\Users\\Kerstin\\Data Science\\Proyectos\\Proyecto_Analitica\\plots\\padron_vs_AirBNB.png\");"
   ]
  },
  {
   "cell_type": "code",
   "execution_count": null,
   "metadata": {},
   "outputs": [],
   "source": []
  },
  {
   "cell_type": "code",
   "execution_count": null,
   "metadata": {},
   "outputs": [],
   "source": [
    "fig, ax1 = plt.subplots(figsize=(13, 7))\n",
    "x = df_dis.index\n",
    "D = centro['total']\n",
    "F = df_dis['CAM PIB M'].resample('Q').mean()\n",
    "\n",
    "color = '#7DC2BF'\n",
    "ax1.set_ylabel('PIB CAM', color=color, fontsize = 16)\n",
    "ax1.plot(F, color=color , marker=\"o\")\n",
    "#.fill_between(df_dis.index,0,df_dis[\"C Precio m2\"], color='#789DB7')\n",
    "ax1.tick_params(axis='y', labelcolor=color, labelsize=12)\n",
    "ax1.tick_params(axis='x', labelcolor=color, labelsize=12)\n",
    "\n",
    "ax1.grid(False)\n",
    "\n",
    "ax2 = ax1.twinx()  # instantiate a second axes that shares the same x-axis\n",
    "\n",
    "color = '#EE2737'\n",
    "ax2.set_ylabel('Aptos nuevos Centro', color=color)  # we already handled the x-label with ax1\n",
    "ax2.plot(D, color=color, marker=\"o\")\n",
    "ax2.tick_params(axis='y', labelcolor=color, labelsize=12)\n",
    "ax2.yaxis.label.set_size(16)\n",
    "#ax2.grid(False)\n",
    "\n",
    "#plt.style.use(\"dark_background\")\n",
    "fig.tight_layout()  # otherwise the right y-label is slightly clipped\n",
    "plt.show();\n",
    "plt.savefig(r\"C:\\Users\\Kerstin\\Data Science\\Proyectos\\Proyecto_Analitica\\plots\\PIB_vs_AirBNB.png\");"
   ]
  },
  {
   "cell_type": "code",
   "execution_count": null,
   "metadata": {},
   "outputs": [],
   "source": [
    "viviendas = pd.read_csv('csv/Viviendas.csv', encoding = 'Latin', sep = ';', decimal=\",\")\n",
    "viviendas['Variación anual'] = viviendas['Variación anual']*100\n",
    "viviendas"
   ]
  },
  {
   "cell_type": "code",
   "execution_count": null,
   "metadata": {},
   "outputs": [],
   "source": [
    "# Importar datos de número de viviendas\n",
    "\n",
    "#viviendas.drop('Unnamed: 2', axis = 1, inplace = True)\n",
    "viviendas.rename(columns={\"Unnamed: 0\": \"Distritos\"}, inplace = True)\n",
    "viviendas.set_index('Distritos', inplace = True)\n",
    "\n",
    "# Join numero viviendas y datos AirBNB\n",
    "viviendas.name = 'viviendas'\n",
    "ratio.name = 'AirBNB'\n",
    "df_ratio = viviendas.join(ratio)\n",
    "df_ratio['ratioAirBNB'] = df_ratio['AirBNB']/df_ratio['Viviendas']\n",
    "df_ratio['Distritos'] = df_ratio.index"
   ]
  },
  {
   "cell_type": "code",
   "execution_count": null,
   "metadata": {},
   "outputs": [],
   "source": [
    "sns.displot(df_ratio['ratioAirBNB'], kde=True, height=6, aspect=6/6)\n",
    "plt.xlabel('Ratio aptos turísticos/vivienda')\n",
    "plt.ylabel('Número barrios');\n",
    "plt.savefig(r\"C:\\Users\\Kerstin\\Data Science\\Proyectos\\Proyecto_Analitica\\plots\\displot.png\")"
   ]
  },
  {
   "cell_type": "code",
   "execution_count": null,
   "metadata": {},
   "outputs": [],
   "source": [
    "df_ratio= df_ratio.sort_values(by = 'ratioAirBNB', ascending = False)\n",
    "df_ratio.describe()"
   ]
  },
  {
   "cell_type": "code",
   "execution_count": null,
   "metadata": {},
   "outputs": [],
   "source": [
    "fig =plt.figure(figsize=(8, 6))\n",
    "ax = sns.barplot(x=df_ratio.index, y=\"ratioAirBNB\", data=df_ratio,\n",
    "                 palette=\"Blues_r\")\n",
    "plt.ylabel('Ratio aptos turísticos/vivienda');\n",
    "plt.xticks(rotation=90);\n",
    "plt.savefig(r\"C:\\Users\\Kerstin\\Data Science\\Proyectos\\Proyecto_Analitica\\plots\\ratio.png\")"
   ]
  },
  {
   "cell_type": "code",
   "execution_count": null,
   "metadata": {},
   "outputs": [],
   "source": [
    "df_centro = df_dis[['C Precio m2', 'C Padron','C Var','CAM Var PIB','CAM PIB M', 'AirBNB_Centro']]\n"
   ]
  },
  {
   "cell_type": "code",
   "execution_count": null,
   "metadata": {},
   "outputs": [],
   "source": [
    "df_centro.rename({'C Precio m2':'Precio Alquiler', 'C Padron':'Padron', 'AirBNB_Centro':'AirBNB'}, axis = 1, inplace = True)\n",
    "#df_centro.drop(['C Var', 'CAM Var PIB'], axis = 1, inplace = True)"
   ]
  },
  {
   "cell_type": "code",
   "execution_count": null,
   "metadata": {},
   "outputs": [],
   "source": [
    "df_corr = df_centro.corr()"
   ]
  },
  {
   "cell_type": "code",
   "execution_count": null,
   "metadata": {},
   "outputs": [],
   "source": [
    "plt.figure(figsize=(10,8.5))\n",
    "sns.heatmap(df_corr, vmin=-1, vmax=1, \n",
    "            annot=True,\n",
    "            linewidths=1,\n",
    "            cmap = sns.diverging_palette(12, 220, as_cmap=True))\n",
    "#sns.set(font_scale=1.2)\n",
    "#plt.style.use(\"dark_background\")\n",
    "plt.show();\n",
    "plt.savefig(r\"C:\\Users\\Kerstin\\Data Science\\Proyectos\\Proyecto_Analitica\\plots\\HEATMAP.png\")"
   ]
  },
  {
   "cell_type": "code",
   "execution_count": null,
   "metadata": {},
   "outputs": [],
   "source": []
  },
  {
   "cell_type": "code",
   "execution_count": null,
   "metadata": {},
   "outputs": [],
   "source": []
  },
  {
   "cell_type": "code",
   "execution_count": null,
   "metadata": {},
   "outputs": [],
   "source": [
    "from urllib.request import urlopen\n",
    "import json\n",
    "import geojson\n",
    "import pandas as pd\n",
    "import plotly.express as px\n",
    "with open('DISTRITOS.geojson') as f:\n",
    "    madrid = geojson.load(f)\n",
    "\n",
    "fig = px.choropleth_mapbox(df_ratio, \n",
    "                           geojson=madrid, \n",
    "                           locations=\"Distritos\", \n",
    "                           featureidkey='properties.name',\n",
    "                           color='Variación anual',\n",
    "                           zoom=10,\n",
    "                           center=dict(lat=40.417,lon=-3.7),\n",
    "                           #center={\"lat\": 45.5517, \"lon\": -73.7073}\n",
    "                           opacity = 0.8,\n",
    "                           color_continuous_scale=color_continuous_scale2,\n",
    "                           color_continuous_midpoint=0)\n",
    "\n",
    "mapbox_access_token = \"pk.eyJ1Ijoia2Vyc3RpbmsiLCJhIjoiY2tnbGJ1enN6MGZ0ZTJ0cGNrbzJid3g4NSJ9.cN4FFIyy2xOcdjGHEUwzFQ\"\n",
    "\n",
    "fig.update_layout(\n",
    "    mapbox=dict(accesstoken=mapbox_access_token))\n",
    "fig.show() \n",
    "fig.write_html(r\"C:\\Users\\Kerstin\\Data Science\\Proyectos\\Proyecto_Analitica\\plots\\Map_alquiler2020.html\")"
   ]
  },
  {
   "cell_type": "code",
   "execution_count": null,
   "metadata": {},
   "outputs": [],
   "source": []
  },
  {
   "cell_type": "code",
   "execution_count": null,
   "metadata": {},
   "outputs": [],
   "source": []
  }
 ],
 "metadata": {
  "kernelspec": {
   "display_name": "Python 3",
   "language": "python",
   "name": "python3"
  },
  "language_info": {
   "codemirror_mode": {
    "name": "ipython",
    "version": 3
   },
   "file_extension": ".py",
   "mimetype": "text/x-python",
   "name": "python",
   "nbconvert_exporter": "python",
   "pygments_lexer": "ipython3",
   "version": "3.8.5"
  }
 },
 "nbformat": 4,
 "nbformat_minor": 4
}
